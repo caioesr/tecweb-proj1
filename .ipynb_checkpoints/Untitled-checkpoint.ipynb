{
 "cells": [
  {
   "cell_type": "code",
   "execution_count": 14,
   "metadata": {},
   "outputs": [],
   "source": [
    "string = \"\"\"\n",
    "POST / HTTP/1.1\n",
    "Host: 0.0.0.0:8080\n",
    "Connection: keep-alive\n",
    "Content-Length: 25\n",
    "Cache-Control: max-age=0\n",
    "Upgrade-Insecure-Requests: 1\n",
    "Origin: http://0.0.0.0:8080\n",
    "Content-Type: application/x-www-form-urlencoded\n",
    "User-Agent: Mozilla/5.0 (Macintosh; Intel Mac OS X 10_15_4) AppleWebKit/537.36 (KHTML, like Gecko) Chrome/88.0.4324.150 Safari/537.36\n",
    "Accept: text/html,application/xhtml+xml,application/xml;q=0.9,image/avif,image/webp,image/apng,*/*;q=0.8,application/signed-exchange;v=b3;q=0.9\n",
    "Referer: http://0.0.0.0:8080/\n",
    "Accept-Encoding: gzip, deflate\n",
    "Accept-Language: en-US,en;q=0.9,pt;q=0.8\n",
    "\n",
    "titulo=Sorvete+de+banana&detalhes=Coloque+uma+banana+no+congelador+e+espere.+Pronto%21+1%2B1%3D2.\n",
    "\"\"\""
   ]
  },
  {
   "cell_type": "code",
   "execution_count": 19,
   "metadata": {},
   "outputs": [],
   "source": [
    "import urllib"
   ]
  },
  {
   "cell_type": "code",
   "execution_count": 17,
   "metadata": {},
   "outputs": [],
   "source": [
    "corpo = string.replace('\\r','').split('\\n\\n')[1]"
   ]
  },
  {
   "cell_type": "code",
   "execution_count": 24,
   "metadata": {},
   "outputs": [],
   "source": [
    "for chave_valor in corpo.split('&'):\n",
    "    chave_valor = urllib.parse.unquote_plus(chave_valor, encoding='utf-8', errors='replace')\n",
    "    chave_valor_split = chave_valor.split('=')\n",
    "    chave = chave_valor_split[0]\n",
    "    valor = ''.join(chave_valor_split[1:])"
   ]
  },
  {
   "cell_type": "code",
   "execution_count": null,
   "metadata": {},
   "outputs": [],
   "source": []
  }
 ],
 "metadata": {
  "kernelspec": {
   "display_name": "Python 3",
   "language": "python",
   "name": "python3"
  },
  "language_info": {
   "codemirror_mode": {
    "name": "ipython",
    "version": 3
   },
   "file_extension": ".py",
   "mimetype": "text/x-python",
   "name": "python",
   "nbconvert_exporter": "python",
   "pygments_lexer": "ipython3",
   "version": "3.8.5"
  }
 },
 "nbformat": 4,
 "nbformat_minor": 4
}
